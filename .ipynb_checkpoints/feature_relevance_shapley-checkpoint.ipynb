{
 "cells": [
  {
   "cell_type": "markdown",
   "id": "b44233a6",
   "metadata": {},
   "source": [
    "# DATA PREPARATION"
   ]
  },
  {
   "cell_type": "code",
   "execution_count": 1,
   "id": "03defbc3",
   "metadata": {},
   "outputs": [],
   "source": [
    "import pandas as pd\n",
    "heart_dataset:pd.DataFrame = pd.read_csv(\"~/git/thesis_thallasemia/heartv1.csv\", header=0)\n",
    "df:pd.DataFrame = heart_dataset.copy()\n",
    "\n",
    "# renamed the headers(target to \"heart disease diagnosis(old target)\" and thal to \"target(thal)\")\n",
    "df.rename(columns={\n",
    "\t'target': 'heart disease diagnosis',\n",
    "\t'thal': 'target(thal)',\n",
    "\t'sex': 'is_male'\n",
    "}, inplace=True)\n",
    "\n",
    "# Map sex to binary\n",
    "df['is_male'] = df['is_male'].map({'male': 1, 'female': 0})"
   ]
  },
  {
   "cell_type": "markdown",
   "id": "480606bd",
   "metadata": {},
   "source": [
    "# FEATURE IMPORTANCE (DATA PREP)"
   ]
  },
  {
   "cell_type": "code",
   "execution_count": 2,
   "id": "93d7363c",
   "metadata": {},
   "outputs": [],
   "source": [
    "from sklearn.model_selection import train_test_split\n",
    "\n",
    "df_feature_importance_RF:pd.DataFrame = df.copy()\n",
    "\n",
    "# Drop rows with missing values if any\n",
    "df_feature_importance_RF.dropna(inplace=True)\n",
    "\n",
    "# Define features and target\n",
    "x:pd.DataFrame = df_feature_importance_RF.drop(columns=['target(thal)'])  # or just keep the column you want as target\n",
    "y:pd.DataFrame = df_feature_importance_RF['target(thal)']  # or use 'heart disease diagnosis(old target)' depending on what you're analyzing\n",
    "\n",
    "# Train/test split\n",
    "x_train, x_test, y_train, y_test = train_test_split(x, y, random_state=42)"
   ]
  },
  {
   "cell_type": "markdown",
   "id": "c2377097",
   "metadata": {},
   "source": [
    "# FEATURE IMPORTANCE (RANDOM FOREST)"
   ]
  },
  {
   "cell_type": "code",
   "execution_count": 5,
   "id": "e0705cb9",
   "metadata": {},
   "outputs": [
    {
     "name": "stdout",
     "output_type": "stream",
     "text": [
      "                    feature  importance\n",
      "13    Heart Disease Risnume    0.120602\n",
      "9                   oldpeak    0.104883\n",
      "14  heart disease diagnosis    0.099129\n",
      "7                  thalach     0.094688\n",
      "4                      chol    0.093843\n",
      "3                resting_BP    0.087437\n",
      "12   Max Heart Rate Reserve    0.086227\n",
      "1                       age    0.078456\n",
      "2                        cp    0.054921\n",
      "0                   is_male    0.053685\n",
      "11                       ca    0.033178\n",
      "10                    slope    0.029241\n",
      "6                   restecg    0.024376\n",
      "8                     exang    0.024129\n",
      "5                       fbs    0.015204\n"
     ]
    }
   ],
   "source": [
    "from sklearn.ensemble import RandomForestClassifier\n",
    "\n",
    "# Train model\n",
    "clf = RandomForestClassifier(random_state=42)\n",
    "clf.fit(x_train, y_train)\n",
    "\n",
    "# Get feature importance\n",
    "importances = clf.feature_importances_\n",
    "feature_names = x.columns\n",
    "feature_importance_df = pd.DataFrame({\n",
    "    'feature': feature_names,\n",
    "    'importance': importances\n",
    "}).sort_values(by='importance', ascending=False)\n",
    "\n",
    "print(feature_importance_df)"
   ]
  },
  {
   "cell_type": "markdown",
   "id": "3bf64002",
   "metadata": {},
   "source": [
    "# SHAPLEY VALUES"
   ]
  },
  {
   "cell_type": "code",
   "execution_count": null,
   "id": "7f887446",
   "metadata": {},
   "outputs": [],
   "source": [
    "import shap\n",
    "\n",
    "\n",
    "# Get SHAP values\n",
    "explainer = shap.Explainer(clf, x_train)\n",
    "shap_values = explainer(x_test)\n",
    "\n",
    "# Example: SHAP values for first instance\n",
    "print(shap_values[0].values)\n",
    "\n",
    "# Optional: summary plot\n",
    "shap.summary_plot(shap_values, x_test)"
   ]
  }
 ],
 "metadata": {
  "kernelspec": {
   "display_name": "venv_shap",
   "language": "python",
   "name": "python3"
  },
  "language_info": {
   "codemirror_mode": {
    "name": "ipython",
    "version": 3
   },
   "file_extension": ".py",
   "mimetype": "text/x-python",
   "name": "python",
   "nbconvert_exporter": "python",
   "pygments_lexer": "ipython3",
   "version": "3.11.2"
  }
 },
 "nbformat": 4,
 "nbformat_minor": 5
}
