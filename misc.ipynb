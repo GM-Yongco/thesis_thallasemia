{
 "cells": [
  {
   "cell_type": "markdown",
   "id": "48f6f110-2612-4e8e-8a60-978b404896db",
   "metadata": {},
   "source": [
    "# My Markdown Example\n",
    "\n",
    "## Introduction  \n",
    "This is a simple example of **Markdown** syntax. You can use it to format text easily.\n",
    "\n",
    "### Features:\n",
    "- **Bold text**: `**bold**` → **bold**  \n",
    "- *Italic text*: `*italic*` → *italic*  \n",
    "- [Links](https://www.example.com): `[Example](https://www.example.com)`  \n",
    "- Inline `code`: `` `code` `` → `code`  \n",
    "- Block of code:\n",
    "  ```python\n",
    "  def hello():\n",
    "      print(\"Hello, Markdown!\")\n"
   ]
  },
  {
   "cell_type": "code",
   "execution_count": 2,
   "id": "03defbc3",
   "metadata": {},
   "outputs": [
    {
     "name": "stdout",
     "output_type": "stream",
     "text": [
      "there are 1035 entries in this database\n"
     ]
    }
   ],
   "source": [
    "\n",
    "import pandas as pd\n",
    "df:pd.DataFrame = pd.read_csv(\"~/git/thesis_thallasemia/heartv1.csv\", header=0)\n",
    "print(f\"there are {len(df)} entries in this database\")"
   ]
  }
 ],
 "metadata": {
  "kernelspec": {
   "display_name": "Python 3 (ipykernel)",
   "language": "python",
   "name": "python3"
  },
  "language_info": {
   "codemirror_mode": {
    "name": "ipython",
    "version": 3
   },
   "file_extension": ".py",
   "mimetype": "text/x-python",
   "name": "python",
   "nbconvert_exporter": "python",
   "pygments_lexer": "ipython3",
   "version": "3.11.2"
  }
 },
 "nbformat": 4,
 "nbformat_minor": 5
}
